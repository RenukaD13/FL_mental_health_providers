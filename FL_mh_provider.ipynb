{
 "cells": [
  {
   "cell_type": "code",
   "execution_count": null,
   "id": "0cc7a2c6-ca35-4da1-adca-78bb74d21599",
   "metadata": {},
   "outputs": [],
   "source": [
    "#import packages\n",
    "import pandas as pd\n",
    "import numpy as np\n",
    "import matplotlib.pyplot as plt\n",
    "import seaborn as sns\n",
    "#import random\n",
    "import os"
   ]
  },
  {
   "cell_type": "markdown",
   "id": "6bb2cade-9d63-4578-b1df-1a839c054bad",
   "metadata": {},
   "source": [
    "**Create a data frame for Yearly report of Florida mental health provider data countywise from year 16-17 to year 22-23**"
   ]
  },
  {
   "cell_type": "code",
   "execution_count": null,
   "id": "793cccaa-c168-4b2c-bd1b-f5eb6194ed01",
   "metadata": {},
   "outputs": [],
   "source": [
    "# Read Ten years Florida provider report from excel and create a dataframe called as ten_year_report\n",
    "ten_year_report = pd.read_excel('../FL_mental_health_providers/data/TenYrsReport.xlsx', skiprows=2)\n",
    "ten_year_report"
   ]
  },
  {
   "cell_type": "code",
   "execution_count": null,
   "id": "82084f08-faac-4532-9e68-41ba287edddb",
   "metadata": {},
   "outputs": [],
   "source": [
    "# Drop the count and blank columns\n",
    "ten_year_report = ten_year_report.drop(columns=['Count','Count.1','Count.2','Count.3','Count.4','Count.5','Count.6','Count.7','Rate.7','Count.8','Rate.8','Count.9','Rate.9'], axis=1)#,'Unnamed: 21','Unnamed: 22'], axis=1)\n",
    "#ten_year_report"
   ]
  },
  {
   "cell_type": "code",
   "execution_count": null,
   "id": "7bfe9fe7-98b0-48aa-8c04-52af5212734d",
   "metadata": {},
   "outputs": [],
   "source": [
    "# Rename Rate column with appropriate column names of ten_year_report dataframe \n",
    "ten_year_report.columns = ['County','FY_22_23','FY_21_22','FY_20_21','FY_19_20','FY_18_19','FY_17_18','FY_16_17']\n",
    "#ten_year_report"
   ]
  },
  {
   "cell_type": "code",
   "execution_count": null,
   "id": "9db31833-d154-48cf-8b19-e270986d6ee5",
   "metadata": {},
   "outputs": [],
   "source": [
    "# Reorder columns from the year 16-17 to year 22-23\n",
    "ten_year_report = ten_year_report.reindex(columns=['County','FY_16_17','FY_17_18','FY_18_19','FY_19_20','FY_20_21','FY_21_22','FY_22_23'])\n",
    "#ten_year_report = ten_year_report.reindex(columns={'County':'County','Rate.6':'FY_16_17', 'Rate.5': 'FY_17_18', 'Rate.4': 'FY_18_19','Rate.3':'FY_19_20','Rate.2':'FY_20_21','Rate.1':'FY_21_22','Rate':'FY_22_23'})\n",
    "ten_year_report"
   ]
  },
  {
   "cell_type": "code",
   "execution_count": null,
   "id": "8a4cac46-7799-4af9-949b-db4010b51825",
   "metadata": {},
   "outputs": [],
   "source": [
    "# Convert the year labels into a dataframe column named \"Year\"\n",
    "ten_year_report = ten_year_report.melt(id_vars=[\"County\"]\n",
    "        , var_name=\"Year\")\n",
    "ten_year_report"
   ]
  },
  {
   "cell_type": "markdown",
   "id": "fe66ed27-c565-4fc0-94f1-51c611342932",
   "metadata": {},
   "source": [
    "**Convert Fiscal year into datetime column**"
   ]
  },
  {
   "cell_type": "code",
   "execution_count": null,
   "id": "98817646-f70f-4c94-8461-8c9bb33b9707",
   "metadata": {},
   "outputs": [],
   "source": [
    "# Create a dictionary with fiscal year values to be replaced with relevant date string\n",
    "fiscal_year_todate = {'FY_16_17': '06-30-2017'\n",
    "                     , 'FY_17_18': '06-30-2018'\n",
    "                     , 'FY_18_19': '06-30-2019'\n",
    "                     , 'FY_19_20': '06-30-2020'\n",
    "                     , 'FY_20_21': '06-30-2021'\n",
    "                     , 'FY_21_22': '06-30-2022'\n",
    "                     , 'FY_22_23': '06-30-2023'}\n",
    "\n",
    "# Replace fiscal year with relevant date string using fiscal_year_todate dictionary\n",
    "ten_year_report['Year'].replace(fiscal_year_todate, inplace=True)\n",
    "# Convert Year column into date format.\n",
    "ten_year_report['Year'] = pd.to_datetime(ten_year_report['Year'])\n",
    "ten_year_report"
   ]
  },
  {
   "cell_type": "code",
   "execution_count": null,
   "id": "b45df99e-d9a7-4652-b770-42e2e8795f25",
   "metadata": {},
   "outputs": [],
   "source": [
    "# #Below code only works if Year column contains string in any format of date\n",
    "# from dateutil.parser import parse\n",
    "# ten_year_report[\"Year\"] = ten_year_report[\"Year\"].apply(lambda x: parse(x))"
   ]
  },
  {
   "cell_type": "markdown",
   "id": "155f0ec7-a48a-4ee6-8bb4-b06b4135a22b",
   "metadata": {},
   "source": [
    "**Save newly converted yearly report for dashboard**"
   ]
  },
  {
   "cell_type": "code",
   "execution_count": null,
   "id": "f71ab4a0-08ed-415b-bf85-08f43bb2c2a8",
   "metadata": {},
   "outputs": [],
   "source": [
    "# fetch the current working directory\n",
    "cwd = os.getcwd() \n",
    "# select the dashboard folder to save the csv file\n",
    "dashboard_path = cwd + \"\\\\dashboard\" \n",
    "# define the file name for csv\n",
    "filename = 'FL_yearly_report.csv'\n",
    "# Create the full file path\n",
    "csv_path = os.path.join(dashboard_path, filename)"
   ]
  },
  {
   "cell_type": "code",
   "execution_count": null,
   "id": "98aac24c-903a-4f2d-a0fc-1dc624cc4435",
   "metadata": {},
   "outputs": [],
   "source": [
    "# convert the DataFrame to CSV file and save it in given path\n",
    "ten_year_report.to_csv(csv_path, index=False) "
   ]
  },
  {
   "cell_type": "markdown",
   "id": "b876f31f-8c73-4406-a466-2f86aa46c7dd",
   "metadata": {},
   "source": [
    "**Create a function that brings in all the excel files and then append all the excels together to create one master dataframe**"
   ]
  },
  {
   "cell_type": "code",
   "execution_count": null,
   "id": "92727cff-ae1a-4a17-b5a1-86b279f2c0c6",
   "metadata": {},
   "outputs": [],
   "source": [
    "# select the data folder to fetch excel files\n",
    "data_path = cwd + \"\\\\data\" \n",
    "# list all the file names present in the path\n",
    "files = os.listdir(data_path)\n",
    "files"
   ]
  },
  {
   "cell_type": "code",
   "execution_count": null,
   "id": "db7c310a-2b0c-411a-83be-88866d1c2d0d",
   "metadata": {},
   "outputs": [],
   "source": [
    "# Retrieve only monthly excel files \n",
    "files_xls = [f for f in files if f[-12:] == 'Monthly.xlsx']\n",
    "files_xls"
   ]
  },
  {
   "cell_type": "code",
   "execution_count": null,
   "id": "3a9c0bbe-de37-4c4e-a628-11ae40848e0e",
   "metadata": {},
   "outputs": [],
   "source": [
    "# check what is the result of file path\n",
    "for f in files_xls:\n",
    "    file_path = '../FL_mental_health_providers/data/' + f \n",
    "file_path # result = '../FL_mental_health_providers/data/EHR_GEHRIMED_C4631G6561_2024-12-31_Facility and Provider GDR Report_Monthly.xlsx'"
   ]
  },
  {
   "cell_type": "code",
   "execution_count": null,
   "id": "5553a509-d898-4884-8dff-82be6b24d80a",
   "metadata": {
    "scrolled": true
   },
   "outputs": [],
   "source": [
    "# loop over list of monthly excel files to append to empty dataframe\n",
    "data_list = []\n",
    "for f in files_xls:\n",
    "    data = pd.read_excel('../FL_mental_health_providers/data/' + f, 'Provider MTD')\n",
    "    data.insert(0, 'Date', pd.to_datetime(f.split('_')[3][:7]) , True)\n",
    "    data_list.append(data)"
   ]
  },
  {
   "cell_type": "code",
   "execution_count": null,
   "id": "58704e86-d80a-4203-97de-694ff4d4a326",
   "metadata": {},
   "outputs": [],
   "source": [
    "# Copy the data from list to dataframe and create a master dataset for provider information\n",
    "df_provider_2024 = pd.concat(data_list)"
   ]
  },
  {
   "cell_type": "code",
   "execution_count": null,
   "id": "014dd241-5e55-4ee9-b33a-be0f357b1cfb",
   "metadata": {
    "scrolled": true
   },
   "outputs": [],
   "source": [
    "# display the values of master dataframe df_provider_2024\n",
    "df_provider_2024"
   ]
  },
  {
   "cell_type": "code",
   "execution_count": null,
   "id": "7bdfa2f7-e570-42a8-a5c8-d4b2ae737dfe",
   "metadata": {},
   "outputs": [],
   "source": [
    "df_provider_2024['Date'].value_counts()"
   ]
  },
  {
   "cell_type": "code",
   "execution_count": null,
   "id": "83fd3179-0beb-4b67-a26f-0079223ce3e1",
   "metadata": {},
   "outputs": [],
   "source": [
    "# # This function assigns the sequential ids to unique names - to be used in masking the data.\n",
    "# def assign_ids(df, column_name):\n",
    "#     unique_names = df[column_name].unique() # Get the unique values of 'column_name' column\n",
    "#     name_to_id = {name: i for i, name in enumerate(unique_names)}\n",
    "#     df['Provider masked name'] = df[column_name].map(name_to_id)\n",
    "#     return df"
   ]
  },
  {
   "cell_type": "markdown",
   "id": "b0066861-d640-4700-a892-415546cebc93",
   "metadata": {},
   "source": [
    "**Create a new column \"New Provider Name\" which will hold the masked provider names and place it as 2nd column of dataframe**"
   ]
  },
  {
   "cell_type": "code",
   "execution_count": null,
   "id": "3a482ba1-b2ab-44a6-9a2b-369d71e5381f",
   "metadata": {},
   "outputs": [],
   "source": [
    "# Create an array with unique values of provider name column\n",
    "unique_names = df_provider_2024['Provider Name'].unique() \n",
    "# loop over to create unique masked ids\n",
    "name_to_id = {name: i for i, name in enumerate(unique_names)} "
   ]
  },
  {
   "cell_type": "code",
   "execution_count": null,
   "id": "9b672dc9-ca4b-4370-9293-7e1e0bf80ad8",
   "metadata": {},
   "outputs": [],
   "source": [
    "# # map and assign newly created id in new column of dataframe\n",
    "# df_provider_2024['Provider masked name'] = df_provider_2024['Provider Name'].map(name_to_id) "
   ]
  },
  {
   "cell_type": "code",
   "execution_count": null,
   "id": "6359de23-ee3f-4aa6-a9dc-9998d919373d",
   "metadata": {},
   "outputs": [],
   "source": [
    "# Using insert() to add a new column at position 1 (2nd column) and assign newly created ids by mapping the values to it\n",
    "df_provider_2024.insert(1, \"New_Provider_Name\", df_provider_2024['Provider Name'].map(name_to_id) , True)"
   ]
  },
  {
   "cell_type": "code",
   "execution_count": null,
   "id": "ca3a5cf7-2fde-4c3b-bfc6-694d4e82020b",
   "metadata": {},
   "outputs": [],
   "source": [
    "# prefix 'Provider' string to the value of masked column\n",
    "df_provider_2024['New_Provider_Name'] = 'Provider-' + df_provider_2024['New_Provider_Name'].astype(str)"
   ]
  },
  {
   "cell_type": "code",
   "execution_count": null,
   "id": "fb3c51e6-dc51-447b-91d8-27c3a91ede23",
   "metadata": {
    "scrolled": true
   },
   "outputs": [],
   "source": [
    "#df_provider_2024 = assign_ids(df_provider_2024, 'Provider Name')\n",
    "df_provider_2024"
   ]
  },
  {
   "cell_type": "code",
   "execution_count": null,
   "id": "6ba36841-3ac8-484e-95e0-db95d4c83bea",
   "metadata": {
    "scrolled": true
   },
   "outputs": [],
   "source": [
    "# Drop the sensitive column with provider name columns=['B', 'C']\n",
    "df_provider_2024 = df_provider_2024.drop(columns=['Unnamed: 0','Provider Name'],axis=1)\n",
    "df_provider_2024"
   ]
  },
  {
   "cell_type": "markdown",
   "id": "4092617f-1741-48db-84f5-12e514a224f2",
   "metadata": {},
   "source": [
    "**Save the newly converted file**"
   ]
  },
  {
   "cell_type": "code",
   "execution_count": null,
   "id": "714868cc-26d4-4c4f-a5c2-40701233ea7e",
   "metadata": {},
   "outputs": [],
   "source": [
    "filename = 'Provider_data_2024.csv'\n",
    "# Create the full file path\n",
    "csv_path = os.path.join(dashboard_path, filename)\n",
    "# convert the DataFrame to CSV file and save it in given path\n",
    "df_provider_2024.to_csv(csv_path, index=False) "
   ]
  },
  {
   "cell_type": "markdown",
   "id": "5800e519-7f3c-4290-af0e-cd6df91e78d7",
   "metadata": {},
   "source": [
    "**Create a monthly total dataframe**"
   ]
  },
  {
   "cell_type": "code",
   "execution_count": null,
   "id": "b96da3a3-965a-458a-a4c7-69b8b453760d",
   "metadata": {},
   "outputs": [],
   "source": [
    "df_monthly_total = df_provider_2024[df_provider_2024['New_Provider_Name']=='Provider-100']"
   ]
  },
  {
   "cell_type": "code",
   "execution_count": null,
   "id": "475da02f-0036-420d-8666-ac237a6ba76a",
   "metadata": {},
   "outputs": [],
   "source": [
    "df_monthly_total.head()"
   ]
  },
  {
   "cell_type": "code",
   "execution_count": null,
   "id": "824f0cea-bf56-4ce1-9494-8ce90c3116da",
   "metadata": {},
   "outputs": [],
   "source": [
    "filename = 'monthly_total.csv'\n",
    "# Create the full file path\n",
    "csv_path = os.path.join(dashboard_path, filename)\n",
    "# convert the DataFrame to CSV file and save it in given path\n",
    "df_monthly_total.to_csv(csv_path, index=False) "
   ]
  },
  {
   "cell_type": "markdown",
   "id": "5d67014e-a081-4ddd-a1db-2f1adc3ee9d3",
   "metadata": {},
   "source": [
    "**Delete rows representing total and create master dataframe**"
   ]
  },
  {
   "cell_type": "code",
   "execution_count": null,
   "id": "76683992-f636-436c-b56a-9f4ba33ebbc2",
   "metadata": {
    "scrolled": true
   },
   "outputs": [],
   "source": [
    "df_provider_2024"
   ]
  },
  {
   "cell_type": "markdown",
   "id": "deea0e5f-297a-48e4-b251-90f255db3b45",
   "metadata": {},
   "source": [
    "## Check the code - delete is not working properly"
   ]
  },
  {
   "cell_type": "code",
   "execution_count": null,
   "id": "1d326d6b-deaf-4cb0-a410-383a64ed719a",
   "metadata": {},
   "outputs": [],
   "source": []
  },
  {
   "cell_type": "code",
   "execution_count": null,
   "id": "7342d7a4-e8ef-48cd-ab5f-4cc2995c4867",
   "metadata": {
    "scrolled": true
   },
   "outputs": [],
   "source": [
    "df_master_data_2024 = df_provider_2024.drop(df_provider_2024[(df_provider_2024.New_Provider_Name == 'Provider-100')].index)\n",
    "df_master_data_2024"
   ]
  },
  {
   "cell_type": "code",
   "execution_count": null,
   "id": "06aef2f6-804c-4430-b992-acdc79c9c143",
   "metadata": {},
   "outputs": [],
   "source": [
    "# filename = 'master_data_2024.csv'\n",
    "# # Create the full file path\n",
    "# csv_path = os.path.join(dashboard_path, filename)\n",
    "# # convert the DataFrame to CSV file and save it in given path\n",
    "# df_master_data_2024.to_csv(csv_path, index=False) "
   ]
  },
  {
   "cell_type": "code",
   "execution_count": null,
   "id": "7c7e14c4-7671-4824-b8c2-9042ffbdfa57",
   "metadata": {},
   "outputs": [],
   "source": []
  },
  {
   "cell_type": "code",
   "execution_count": null,
   "id": "13430ae4-9d23-448d-a2b1-ca6d9b6dbf8e",
   "metadata": {},
   "outputs": [],
   "source": []
  },
  {
   "cell_type": "code",
   "execution_count": null,
   "id": "50ae2411-6ed1-40e9-b1d2-fec2c9de8cfb",
   "metadata": {},
   "outputs": [],
   "source": []
  },
  {
   "cell_type": "code",
   "execution_count": null,
   "id": "54fdae66-d35c-422b-9deb-00249121e484",
   "metadata": {},
   "outputs": [],
   "source": []
  },
  {
   "cell_type": "code",
   "execution_count": null,
   "id": "061306b1-2693-4f90-b200-96e950626aad",
   "metadata": {},
   "outputs": [],
   "source": []
  },
  {
   "cell_type": "code",
   "execution_count": null,
   "id": "b724ac1a-f3bd-4d7f-abd9-255dc2757983",
   "metadata": {},
   "outputs": [],
   "source": []
  },
  {
   "cell_type": "code",
   "execution_count": null,
   "id": "2b311d73-6cbb-4993-8f9f-2ac33808cff7",
   "metadata": {},
   "outputs": [],
   "source": []
  }
 ],
 "metadata": {
  "kernelspec": {
   "display_name": "Python 3 (ipykernel)",
   "language": "python",
   "name": "python3"
  },
  "language_info": {
   "codemirror_mode": {
    "name": "ipython",
    "version": 3
   },
   "file_extension": ".py",
   "mimetype": "text/x-python",
   "name": "python",
   "nbconvert_exporter": "python",
   "pygments_lexer": "ipython3",
   "version": "3.12.7"
  }
 },
 "nbformat": 4,
 "nbformat_minor": 5
}
